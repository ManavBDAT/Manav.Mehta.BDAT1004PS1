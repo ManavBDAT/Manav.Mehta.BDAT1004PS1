{
 "cells": [
  {
   "cell_type": "code",
   "execution_count": 6,
   "id": "4a41c778",
   "metadata": {},
   "outputs": [
    {
     "name": "stdout",
     "output_type": "stream",
     "text": [
      "Convert message to pig latin: Manav\n",
      "anavmay\n"
     ]
    }
   ],
   "source": [
    "# Question 6 Python\n",
    "# You can turn a word into pig-Latin using the following two rules(simplified):\n",
    "# • If the word starts with a consonant, move that letter to the end and append\n",
    "# 'ay'. For example, 'happy' becomes 'appyhay' and 'pencil' becomes 'encilpay'.\n",
    "# • If the word starts with a vowel, simply append 'way' to the end of the word.\n",
    "# For example, 'enter' becomes 'enterway' and 'other' becomes 'otherway' . For\n",
    "# our purposes, there are 5 vowels: a, e, i, o, u (so we count y as a consonant).\n",
    "# Write a function pig() that takes a word (i.e., a string) as input and returns its pigLatin form.\n",
    "# Your function should still work if the input word contains upper case\n",
    "# characters. Your output should always be lower case however.\n",
    "\n",
    "\n",
    "pig = input(\"Convert message to pig latin: \")\n",
    "wordList = pig.lower().split(\" \")\n",
    "vowels = ['a', 'e', 'i', 'o', 'u']\n",
    "pig = []\n",
    "eachWord = []\n",
    "for word in wordList:\n",
    "    if word[0] in 'aeiou': \n",
    "        pig.append(word + 'way')\n",
    "    else:\n",
    "        for letter in word:\n",
    "            if letter in 'aeiou':\n",
    "                pig.append(word[word.index(letter):] + word[:word.index(letter)] +'ay')\n",
    "                break\n",
    "\n",
    "\n",
    "print(\" \".join(pig))"
   ]
  },
  {
   "cell_type": "code",
   "execution_count": 41,
   "id": "c7c1922d",
   "metadata": {},
   "outputs": [
    {
     "name": "stdout",
     "output_type": "stream",
     "text": [
      "Total Number of A blood type is : 15\n",
      "Total Number of B blood type is : 1\n",
      "Total Number of AB blood type is : 13\n",
      "Total Number of O blood type is : 15\n",
      "Total Number of OO blood type is : 0\n"
     ]
    }
   ],
   "source": [
    "# Question 7 Python\n",
    "# File bloodtype1.txt records blood-types of patients (A, B, AB, O or OO) at a clinic.\n",
    "# Write a function bldcount() that reads the file with name name and reports (i.e.,\n",
    "# prints) how many patients there are in each bloodtype.\n",
    "\n",
    "\n",
    "file1 = open(r\"D:\\Study material\\BDAT 1004 Data Programming\\bloodtype1.txt\", \"r\")\n",
    "\n",
    "\n",
    "\n",
    "data = file1.read()\n",
    "\n",
    "countA = data.count('A ')\n",
    "countB = data.count(' B')\n",
    "countAB = data.count('AB')\n",
    "countO = data.count('O ')\n",
    "countOO = data.count('OO')\n",
    "\n",
    "\n",
    "print(\"Total Number of A blood type is : {}\".format(countA))\n",
    "print(\"Total Number of B blood type is : {}\".format(countB))\n",
    "print(\"Total Number of AB blood type is : {}\".format(countAB))\n",
    "print(\"Total Number of O blood type is : {}\".format(countO))\n",
    "print(\"Total Number of OO blood type is : {}\".format(countOO))"
   ]
  },
  {
   "cell_type": "code",
   "execution_count": 2,
   "id": "33a7c3b9",
   "metadata": {},
   "outputs": [
    {
     "name": "stdout",
     "output_type": "stream",
     "text": [
      "122.96544\n"
     ]
    }
   ],
   "source": [
    "# Question 8 Python\n",
    "# Write a function curconv() that takes as input:\n",
    "#1. a currency represented using a string (e.g., 'JPY' for the Japanese Yen or 'EUR' for the Euro)\n",
    "#2. an amount and then converts and returns the amount in US dollars.\n",
    "\n",
    "\n",
    "def curconv(currency,amount):\n",
    "    file = open(r\"D:\\Study material\\BDAT 1004 Data Programming\\currencies.txt\", \"r\")\n",
    "    file1 = file.readlines()\n",
    "    file.close()\n",
    "    for file in file1 :\n",
    "        group = file.split()\n",
    "        if currency == group[0]:\n",
    "            currency = float(group[1])\n",
    "            valueconv = amount * currency\n",
    "        \n",
    "    print(valueconv)   \n",
    "        \n",
    "curconv('EUR',100)"
   ]
  },
  {
   "cell_type": "code",
   "execution_count": 3,
   "id": "23dd20b7",
   "metadata": {},
   "outputs": [
    {
     "ename": "TypeError",
     "evalue": "unsupported operand type(s) for +: 'int' and 'str'",
     "output_type": "error",
     "traceback": [
      "\u001b[1;31m---------------------------------------------------------------------------\u001b[0m",
      "\u001b[1;31mTypeError\u001b[0m                                 Traceback (most recent call last)",
      "Input \u001b[1;32mIn [3]\u001b[0m, in \u001b[0;36m<cell line: 6>\u001b[1;34m()\u001b[0m\n\u001b[0;32m      1\u001b[0m \u001b[38;5;66;03m# Question 9 Python\u001b[39;00m\n\u001b[0;32m      2\u001b[0m \u001b[38;5;66;03m# Each of the following will cause an exception (an error). Identify what type of exception each will cause.\u001b[39;00m\n\u001b[0;32m      3\u001b[0m \n\u001b[0;32m      4\u001b[0m \u001b[38;5;66;03m#1 Adding 6 + ‘a’\u001b[39;00m\n\u001b[1;32m----> 6\u001b[0m a \u001b[38;5;241m=\u001b[39m \u001b[38;5;241;43m6\u001b[39;49m\u001b[43m \u001b[49m\u001b[38;5;241;43m+\u001b[39;49m\u001b[43m \u001b[49m\u001b[38;5;124;43m'\u001b[39;49m\u001b[38;5;124;43ma\u001b[39;49m\u001b[38;5;124;43m'\u001b[39;49m\n\u001b[0;32m      8\u001b[0m \u001b[38;5;28mprint\u001b[39m(a)\n",
      "\u001b[1;31mTypeError\u001b[0m: unsupported operand type(s) for +: 'int' and 'str'"
     ]
    }
   ],
   "source": [
    "# Question 9 Python\n",
    "# Each of the following will cause an exception (an error). Identify what type of exception each will cause.\n",
    "\n",
    "#1 Adding 6 + ‘a’\n",
    "\n",
    "a = 6 + 'a'\n",
    "\n",
    "print(a);\n"
   ]
  },
  {
   "cell_type": "code",
   "execution_count": 4,
   "id": "2760b737",
   "metadata": {},
   "outputs": [
    {
     "ename": "IndexError",
     "evalue": "list index out of range",
     "output_type": "error",
     "traceback": [
      "\u001b[1;31m---------------------------------------------------------------------------\u001b[0m",
      "\u001b[1;31mIndexError\u001b[0m                                Traceback (most recent call last)",
      "Input \u001b[1;32mIn [4]\u001b[0m, in \u001b[0;36m<cell line: 4>\u001b[1;34m()\u001b[0m\n\u001b[0;32m      1\u001b[0m \u001b[38;5;66;03m#2 Referring to the 12th item of a list that has only 10 items\u001b[39;00m\n\u001b[0;32m      3\u001b[0m \u001b[38;5;28mlist\u001b[39m\u001b[38;5;241m=\u001b[39m[\u001b[38;5;241m1\u001b[39m,\u001b[38;5;241m2\u001b[39m,\u001b[38;5;241m3\u001b[39m,\u001b[38;5;241m4\u001b[39m,\u001b[38;5;241m5\u001b[39m,\u001b[38;5;241m6\u001b[39m,\u001b[38;5;241m7\u001b[39m,\u001b[38;5;241m8\u001b[39m,\u001b[38;5;241m9\u001b[39m,\u001b[38;5;241m10\u001b[39m]\n\u001b[1;32m----> 4\u001b[0m \u001b[38;5;28mprint\u001b[39m(\u001b[38;5;28;43mlist\u001b[39;49m\u001b[43m[\u001b[49m\u001b[38;5;241;43m12\u001b[39;49m\u001b[43m]\u001b[49m)\n",
      "\u001b[1;31mIndexError\u001b[0m: list index out of range"
     ]
    }
   ],
   "source": [
    "#2 Referring to the 12th item of a list that has only 10 items\n",
    "\n",
    "list=[1,2,3,4,5,6,7,8,9,10]\n",
    "print(list[12])"
   ]
  },
  {
   "cell_type": "code",
   "execution_count": 5,
   "id": "ec6763c9",
   "metadata": {},
   "outputs": [
    {
     "ename": "ValueError",
     "evalue": "math domain error",
     "output_type": "error",
     "traceback": [
      "\u001b[1;31m---------------------------------------------------------------------------\u001b[0m",
      "\u001b[1;31mValueError\u001b[0m                                Traceback (most recent call last)",
      "Input \u001b[1;32mIn [5]\u001b[0m, in \u001b[0;36m<cell line: 5>\u001b[1;34m()\u001b[0m\n\u001b[0;32m      1\u001b[0m \u001b[38;5;66;03m# Using a value that is out ofrange for a function’s input, such as calling math.sqrt(-1.0)\u001b[39;00m\n\u001b[0;32m      3\u001b[0m \u001b[38;5;28;01mimport\u001b[39;00m \u001b[38;5;21;01mmath\u001b[39;00m\n\u001b[1;32m----> 5\u001b[0m \u001b[38;5;28mprint\u001b[39m(\u001b[43mmath\u001b[49m\u001b[38;5;241;43m.\u001b[39;49m\u001b[43msqrt\u001b[49m\u001b[43m(\u001b[49m\u001b[38;5;241;43m-\u001b[39;49m\u001b[38;5;241;43m1.0\u001b[39;49m\u001b[43m)\u001b[49m)\n",
      "\u001b[1;31mValueError\u001b[0m: math domain error"
     ]
    }
   ],
   "source": [
    "#3 Using a value that is out ofrange for a function’s input, such as calling math.sqrt(-1.0)\n",
    "\n",
    "import math\n",
    "\n",
    "print(math.sqrt(-1.0))"
   ]
  },
  {
   "cell_type": "code",
   "execution_count": 6,
   "id": "b3f34260",
   "metadata": {},
   "outputs": [
    {
     "ename": "NameError",
     "evalue": "name 'x' is not defined",
     "output_type": "error",
     "traceback": [
      "\u001b[1;31m---------------------------------------------------------------------------\u001b[0m",
      "\u001b[1;31mNameError\u001b[0m                                 Traceback (most recent call last)",
      "Input \u001b[1;32mIn [6]\u001b[0m, in \u001b[0;36m<cell line: 3>\u001b[1;34m()\u001b[0m\n\u001b[0;32m      1\u001b[0m \u001b[38;5;66;03m#4 Using an undeclared variable, such as print(x) when x has not been defined\u001b[39;00m\n\u001b[1;32m----> 3\u001b[0m \u001b[38;5;28mprint\u001b[39m(\u001b[43mx\u001b[49m)\n",
      "\u001b[1;31mNameError\u001b[0m: name 'x' is not defined"
     ]
    }
   ],
   "source": [
    "#4 Using an undeclared variable, such as print(x) when x has not been defined\n",
    "\n",
    "print(x)"
   ]
  },
  {
   "cell_type": "code",
   "execution_count": 7,
   "id": "dda858fe",
   "metadata": {},
   "outputs": [
    {
     "ename": "FileNotFoundError",
     "evalue": "[Errno 2] No such file or directory: 'demo.txt'",
     "output_type": "error",
     "traceback": [
      "\u001b[1;31m---------------------------------------------------------------------------\u001b[0m",
      "\u001b[1;31mFileNotFoundError\u001b[0m                         Traceback (most recent call last)",
      "Input \u001b[1;32mIn [7]\u001b[0m, in \u001b[0;36m<cell line: 3>\u001b[1;34m()\u001b[0m\n\u001b[0;32m      1\u001b[0m \u001b[38;5;66;03m#5 Trying to open a file that does not exist, such as mistyping the file name or looking in the wrong directory\u001b[39;00m\n\u001b[1;32m----> 3\u001b[0m f \u001b[38;5;241m=\u001b[39m \u001b[38;5;28;43mopen\u001b[39;49m\u001b[43m(\u001b[49m\u001b[38;5;124;43m'\u001b[39;49m\u001b[38;5;124;43mdemo.txt\u001b[39;49m\u001b[38;5;124;43m'\u001b[39;49m\u001b[43m,\u001b[49m\u001b[38;5;124;43m'\u001b[39;49m\u001b[38;5;124;43mr\u001b[39;49m\u001b[38;5;124;43m'\u001b[39;49m\u001b[43m)\u001b[49m\n",
      "\u001b[1;31mFileNotFoundError\u001b[0m: [Errno 2] No such file or directory: 'demo.txt'"
     ]
    }
   ],
   "source": [
    "#5 Trying to open a file that does not exist, such as mistyping the file name or looking in the wrong directory\n",
    "\n",
    "f = open('demo.txt','r')"
   ]
  },
  {
   "cell_type": "code",
   "execution_count": 8,
   "id": "3a4f66fa",
   "metadata": {},
   "outputs": [
    {
     "name": "stdout",
     "output_type": "stream",
     "text": [
      "['1', '1', '1', '3', '5', '1', '1', '2', '1', '0', '1', '0', '1', '2', '4', '0', '1', '2', '0', '2', '1', '0', '1', '1', '0', '0']\n",
      "['1', '0', '0', '0', '1', '0', '0', '0', '0', '0', '0', '1', '0', '0', '0', '2', '0', '0', '0', '0', '0', '0', '0', '0', '0', '0']\n"
     ]
    }
   ],
   "source": [
    "# Question 10 Python\n",
    "\n",
    "# Encryption is the process of hiding the meaning of a text by substituting letters in the\n",
    "# message with other letters, according to some system. If the process is successful, no\n",
    "# one but the intended recipient can understand the encrypted message. Cryptanalysis\n",
    "# refers to attempts to undo the encryption, even if some details of the encryption are\n",
    "# unknown (for example, if an encrypted message has been intercepted). The first step\n",
    "# of cryptanalysis is often to build up a table of letter frequencies in the encrypted text.\n",
    "# Assume that the string letters is already defined as\n",
    "# 'abcdefghijklmnopqrstuvwxyz'. Write a function called frequencies()\n",
    "# that takes a string as its only parameter, and returns a list of integers, showing the\n",
    "# number of times each character appears in the text. Your function may ignore any\n",
    "# characters that are not in letters.\n",
    "\n",
    "def frequencies(line):\n",
    "    frequenciesofline = []\n",
    "    alphabets = 'abcdefghijklmnopqrstuvwxyz'\n",
    "    for each in alphabets:\n",
    "        alphabet_count = (line.count(each))\n",
    "        frequenciesofline +=  str(alphabet_count)\n",
    "    print(frequenciesofline)\n",
    "    \n",
    "frequencies('The quick red fox got bored and went home.')\n",
    "frequencies('apple')"
   ]
  }
 ],
 "metadata": {
  "kernelspec": {
   "display_name": "Python 3 (ipykernel)",
   "language": "python",
   "name": "python3"
  },
  "language_info": {
   "codemirror_mode": {
    "name": "ipython",
    "version": 3
   },
   "file_extension": ".py",
   "mimetype": "text/x-python",
   "name": "python",
   "nbconvert_exporter": "python",
   "pygments_lexer": "ipython3",
   "version": "3.9.12"
  }
 },
 "nbformat": 4,
 "nbformat_minor": 5
}
