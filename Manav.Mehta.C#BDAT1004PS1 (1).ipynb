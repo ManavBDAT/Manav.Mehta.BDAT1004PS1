{
 "cells": [
  {
   "cell_type": "code",
   "execution_count": null,
   "id": "616ce37c",
   "metadata": {},
   "outputs": [],
   "source": [
    "/*\n",
    "Question 1 C# \n",
    "Task : What data type is each of the following?\n",
    "*/\n",
    "\n",
    "5 : Integer\n",
    "5.0 : Float\n",
    "5 > 1 : Boolean\n",
    "'5' : Char\n",
    "5 * 2 : Integer \n",
    "'5' * 2 : String\n",
    "'5' + '2' : String\n",
    "5 / 2 : Float \n",
    "5 % 2 : Integer \n",
    "{5, 2, 1} : Integer \n",
    "5 == 3 : Boolean\n",
    "Pi (the number) : Float \n"
   ]
  },
  {
   "cell_type": "code",
   "execution_count": 2,
   "id": "4333faca",
   "metadata": {},
   "outputs": [
    {
     "name": "stdout",
     "output_type": "stream",
     "text": [
      "Total Count in Supercalifragilisticexpialidocious is : 34\r\n"
     ]
    }
   ],
   "source": [
    "// Question 2 C#\n",
    "// Task 1: How many letters are there in 'Supercalifragilisticexpialidocious'? \n",
    "\n",
    "String s = \"Supercalifragilisticexpialidocious\";\n",
    "int count = 0;\n",
    "foreach (char c in s)\n",
    "{\n",
    "  count++;\n",
    "}\n",
    "\n",
    "Console.WriteLine(\"Total Count in \"+ s + \" is : \" +count);"
   ]
  },
  {
   "cell_type": "code",
   "execution_count": 2,
   "id": "43b2bb3b",
   "metadata": {},
   "outputs": [
    {
     "name": "stdout",
     "output_type": "stream",
     "text": [
      "Does Supercalifragilisticexpialidocious contains ice? :True\r\n"
     ]
    }
   ],
   "source": [
    "// Question 2 C#\n",
    "// Task 2: Does 'Supercalifragilisticexpialidocious' contain 'ice' as a substring?\n",
    "string str = \"Supercalifragilisticexpialidocious\";\n",
    "string findString = \"ice\";\n",
    "Boolean result = str.Contains(findString);\n",
    "Console.WriteLine(\"Does \" + str + \" contains \" + findString + \"? :\" + result);"
   ]
  },
  {
   "cell_type": "code",
   "execution_count": 11,
   "id": "9934c88e",
   "metadata": {},
   "outputs": [
    {
     "name": "stdout",
     "output_type": "stream",
     "text": [
      "Total Count in Supercalifragilisticexpialidocious is : 34\n",
      "Total Count in Honorificabilitudinitatibus is : 27\n",
      "Total Count in Bababadalgharaghtakamminarronnkonn is : 34\n",
      "Supercalifragilisticexpialidocious and Bababadalgharaghtakamminarronnkonn is same lenght.\n"
     ]
    }
   ],
   "source": [
    "/* Question 2 C# \n",
    " Task 3 : Which of the following words is the longest:  Supercalifragilisticexpialidocious, Honorificabilitudinitatibus, or \n",
    " Bababadalgharaghtakamminarronnkonn? */\n",
    " \n",
    "string str1 = \"Supercalifragilisticexpialidocious\";\n",
    "string str2 = \"Honorificabilitudinitatibus\";\n",
    "string str3 = \"Bababadalgharaghtakamminarronnkonn\";\n",
    " \n",
    "int count1 = 0;\n",
    "int count2 = 0;\n",
    "int count3 = 0;\n",
    "\n",
    "foreach (char c in str1)\n",
    "{\n",
    "  count1++;\n",
    "}\n",
    "\n",
    "foreach (char c in str2)\n",
    "{\n",
    "  count2++;\n",
    "}\n",
    "\n",
    "foreach (char c in str3)\n",
    "{\n",
    "  count3++;\n",
    "}\n",
    "\n",
    "\n",
    "Console.WriteLine(\"Total Count in \"+ str1 + \" is : \" +count1);\n",
    "Console.WriteLine(\"Total Count in \"+ str2 + \" is : \" +count2);\n",
    "Console.WriteLine(\"Total Count in \"+ str3 + \" is : \" +count3);\n",
    "\n",
    "\n",
    "if(count1 > count2){\n",
    "    if(count1 > count3){\n",
    "        Console.WriteLine(str1 + \" is largest.\");\n",
    "    }\n",
    "    else if(count1 == count3){\n",
    "        Console.WriteLine(str1 + \" and \" + str3 + \" is same lenght.\");\n",
    "    }\n",
    "    else{\n",
    "        Console.WriteLine(str3 + \" is largest.\");\n",
    "    }\n",
    "}\n",
    "else{\n",
    "        if(count2 > count3){\n",
    "            Console.WriteLine(str2 + \" is largest.\");\n",
    "        }\n",
    "        else if(count2 == count3){\n",
    "            Console.WriteLine(str2 + \" and \" + str3 + \" is same lenght.\");\n",
    "        }\n",
    "        else{\n",
    "            Console.WriteLine(str3 + \" is largest.\");\n",
    "        }\n",
    "    }\n",
    "\n",
    " "
   ]
  },
  {
   "cell_type": "code",
   "execution_count": 26,
   "id": "eac93646",
   "metadata": {},
   "outputs": [
    {
     "name": "stderr",
     "output_type": "stream",
     "text": [
      "\r\n",
      "(17,8): error CS1061: 'Dictionary<string, int>' does not contain a definition for 'Sort' and no accessible extension method 'Sort' accepting a first argument of type 'Dictionary<string, int>' could be found (are you missing a using directive or an assembly reference?)\r\n",
      "\r\n"
     ]
    },
    {
     "ename": "Cell not executed",
     "evalue": "compilation error",
     "output_type": "error",
     "traceback": []
    }
   ],
   "source": [
    "/* Question 2 C#\n",
    " Which composer comes first in the dictionary: 'Berlioz', 'Borodin', 'Brian', \n",
    "'Bartok', 'Bellini', 'Buxtehude', 'Bernstein'. Which one comes last? */\n",
    "\n",
    "Dictionary<string, int> myDict = new Dictionary<string, int>();\n",
    "\n",
    "myDict.Add(\"Berlioz\",1);\n",
    "myDict.Add(\"Borodin\",2);\n",
    "myDict.Add(\"Brian\",3);\n",
    "myDict.Add(\"Bartok\",4);\n",
    "myDict.Add(\"Bellini\",5);\n",
    "myDict.Add(\"Buxtehude\",6);\n",
    "myDict.Add(\"Bernstein\",7);\n",
    "\n",
    "List<KeyValuePair<string, int>> myList = myDict.ToList();\n",
    "\n",
    "myDict.Sort(\n",
    "    delegate(KeyValuePair<string, string> pair1,\n",
    "    KeyValuePair<string, string> pair2)\n",
    "    {\n",
    "        return pair1.Value.CompareTo(pair2.Value);\n",
    "    }\n",
    ");\n",
    "\n"
   ]
  },
  {
   "cell_type": "code",
   "execution_count": 59,
   "id": "3a17239f",
   "metadata": {},
   "outputs": [
    {
     "name": "stdout",
     "output_type": "stream",
     "text": [
      "Area of a Triangle = 176.0681686165901"
     ]
    }
   ],
   "source": [
    "// Question 3 C#\n",
    "// Task : Implement function triangleArea(a,b,c) that takes as input the lengths of the 3 sides of a triangle and returns the area of the triangle.\n",
    "//By Heron's formula, the area of a triangle with side lengths a, b, and c is s(s − a)(s −b)(s −c), where s = (a + b + c)/2\n",
    "\n",
    "\n",
    "\n",
    "public void triangleArea(double side1, double side2,double side3)\n",
    "{\n",
    "        double semiperimeter = (side1 + side2 + side3) / 2;\n",
    "        Console.WriteLine(semiperimeter);\n",
    "        \n",
    "        double Area = Math.Sqrt(semiperimeter * (semiperimeter - side1) * (semiperimeter - side2) * (semiperimeter - side3));\n",
    "        Console.Write(\"Area of a Triangle = \" + Area);\n",
    "}\n",
    "\n",
    "triangleArea(2,2,2);"
   ]
  },
  {
   "cell_type": "code",
   "execution_count": 3,
   "id": "467f7ac5",
   "metadata": {},
   "outputs": [
    {
     "name": "stdout",
     "output_type": "stream",
     "text": [
      "\n",
      "\n",
      "Separate odd and even integers in separate arrays:\n",
      "------------------------------------------------------\n",
      "Input the number of elements to be stored in the array :Input 0 elements in the array :\n",
      "\n",
      "The Even elements are : \n",
      "\n",
      "The Odd elements are :\n",
      "\n",
      "\n"
     ]
    }
   ],
   "source": [
    "// Question 4 C#\n",
    "// Task : Write a program in C# Sharp to separate odd and even integers in separate arrays. \n",
    "\n",
    "\n",
    "int[] arr1 = new int[10];\n",
    "int[] arr2 = new int[10];\n",
    "int[] arr3 = new int[10];\n",
    "int i, j = 0, k = 0, n;\n",
    "\n",
    "\n",
    "Console.Write(\"\\n\\nSeparate odd and even integers in separate arrays:\\n\");\n",
    "Console.Write(\"------------------------------------------------------\\n\");\n",
    "\n",
    "Console.Write(\"Input the number of elements to be stored in the array :\");\n",
    "n = Convert.ToInt32(Console.ReadLine());\n",
    "\n",
    "Console.Write(\"Input {0} elements in the array :\\n\", n);\n",
    "for (i = 0; i < n; i++)\n",
    "{\n",
    "    Console.Write(\"element - {0} : \", i);\n",
    "    arr1[i] = Convert.ToInt32(Console.ReadLine());\n",
    "}\n",
    "\n",
    "for (i = 0; i < n; i++)\n",
    "{\n",
    "    if (arr1[i] % 2 == 0)\n",
    "    {\n",
    "        arr2[j] = arr1[i];\n",
    "        j++;\n",
    "    }\n",
    "    else\n",
    "    {\n",
    "        arr3[k] = arr1[i];\n",
    "        k++;\n",
    "    }\n",
    "}\n",
    "\n",
    "Console.Write(\"\\nThe Even elements are : \\n\");\n",
    "for (i = 0; i < j; i++)\n",
    "{\n",
    "    Console.Write(\"{0} \", arr2[i]);\n",
    "}\n",
    "\n",
    "Console.Write(\"\\nThe Odd elements are :\\n\");\n",
    "for (i = 0; i < k; i++)\n",
    "{\n",
    "    Console.Write(\"{0} \", arr3[i]);\n",
    "}\n",
    "Console.Write(\"\\n\\n\");\n"
   ]
  },
  {
   "cell_type": "code",
   "execution_count": 46,
   "id": "0589b6a9",
   "metadata": {},
   "outputs": [
    {
     "name": "stdout",
     "output_type": "stream",
     "text": [
      "True\n",
      "False\n",
      "False\n",
      "True\n"
     ]
    }
   ],
   "source": [
    "// Question 5 C#\n",
    "/* Task A : Write a function inside(x,y,x1,y1,x2,y2) that returns True or False\n",
    "depending on whether the point(x,y)lies in the rectangle with lower left\n",
    "corner (x1,y1) and upper right corner (x2,y2). */\n",
    "\n",
    "bool result;\n",
    "\n",
    "public void inside(double x, double y, double x1,double y1, double x2, double y2)\n",
    "{\n",
    "    if (x > x1 && x < x2 && y > y1 && y < y2){\n",
    "        result = true;\n",
    "        Console.WriteLine(result);\n",
    "    }\n",
    "     \n",
    "    else{\n",
    "        result = false;\n",
    "        Console.WriteLine(result);\n",
    "    }\n",
    "    \n",
    "}\n",
    "\n",
    "inside(1,1,0,0,2,3);\n",
    "inside(-1,-1,0,0,2,3);"
   ]
  },
  {
   "cell_type": "code",
   "execution_count": 47,
   "id": "b8a5ea4c",
   "metadata": {},
   "outputs": [
    {
     "name": "stdout",
     "output_type": "stream",
     "text": [
      "Given point do not lies in both triangles."
     ]
    }
   ],
   "source": [
    "// Question 5 C#\n",
    "/* Task B : Use function inside()from part a. to write an expression that tests whether\n",
    "the point (1,1) lies in both of the following rectangles: one with lower left\n",
    "corner (0.3, 0.5) and upper right corner (1.1, 0.7) and the other with lower\n",
    "left corner (0.5, 0.2) and upper right corner (1.1, 2). */\n",
    "\n",
    "\n",
    "static float area(double x1, double y1, double x2, double y2, double x3, double y3)\n",
    "{\n",
    "    return (float)Math.Abs((x1 * (y2 - y3) + x2 * (y3 - y1) + x3 * (y1 - y2)) / 2.0);\n",
    "}\n",
    "\n",
    "static bool check(double x, double y,double x1, double y1, double x2,\n",
    "                      double y2, double x3, double y3, \n",
    "                   double x4, double y4)\n",
    "    {\n",
    "          \n",
    "        float A = area(x1, y1, x2, y2, x3, y3) + \n",
    "                  area(x1, y1, x4, y4, x3, y3);\n",
    "      \n",
    "        float A1 = area(x, y, x1, y1, x2, y2);\n",
    "      \n",
    "        float A2 = area(x, y, x2, y2, x3, y3);\n",
    "      \n",
    "        float A3 = area(x, y, x3, y3, x4, y4);\n",
    "      \n",
    "        float A4 = area(x, y, x1, y1, x4, y4);\n",
    "      \n",
    "        return (A == A1 + A2 + A3 + A4);\n",
    "    }\n",
    "\n",
    "\n",
    "\n",
    "if (check(1,1,0.3,0.5,1.1,0.7,0.5,0.2,1.1,2))\n",
    "{\n",
    "    Console.Write(\"Given point lies in both triangles.\");\n",
    "}\n",
    "            \n",
    "else{\n",
    "    Console.Write(\"Given point do not lies in both triangles.\");\n",
    "}"
   ]
  },
  {
   "cell_type": "code",
   "execution_count": null,
   "id": "87aacf53",
   "metadata": {},
   "outputs": [],
   "source": []
  }
 ],
 "metadata": {
  "kernelspec": {
   "display_name": ".NET (C#)",
   "language": "C#",
   "name": ".net-csharp"
  },
  "language_info": {
   "file_extension": ".cs",
   "mimetype": "text/x-csharp",
   "name": "C#",
   "pygments_lexer": "csharp",
   "version": "8.0"
  }
 },
 "nbformat": 4,
 "nbformat_minor": 5
}
